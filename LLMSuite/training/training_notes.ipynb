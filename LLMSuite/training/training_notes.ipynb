{
 "cells": [
  {
   "cell_type": "code",
   "execution_count": 2,
   "outputs": [],
   "source": [
    "import torch\n",
    "import torch.nn as nn\n",
    "import torch.optim as optim\n",
    "from torch.utils.data import DataLoader, TensorDataset\n",
    "import pandas as pd\n",
    "# Assuming `features` and `target` are your inputs and outputs prepared as PyTorch tensors\n",
    "\n",
    "class LabelLSTM(nn.Module):\n",
    "    def __init__(self, input_size, hidden_size, num_classes):\n",
    "        super(LabelLSTM, self).__init__()\n",
    "        self.hidden_size = hidden_size\n",
    "        self.lstm = nn.LSTM(input_size, hidden_size, batch_first=True)\n",
    "        self.fc = nn.Linear(hidden_size, num_classes)\n",
    "\n",
    "    def forward(self, x):\n",
    "        _, (h_n, _) = self.lstm(x)\n",
    "        out = self.fc(h_n.squeeze(0))\n",
    "        return out\n",
    "\n",
    "data_type = \"S&P\"\n",
    "csv_location = f\"data/{data_type}/data.csv\"\n",
    "df = pd.read_csv(csv_location)"
   ],
   "metadata": {
    "collapsed": false
   }
  },
  {
   "cell_type": "code",
   "execution_count": 4,
   "outputs": [],
   "source": [
    "# Parameters\n",
    "input_size = 1  # Number of features per time step\n",
    "hidden_size = 128  # LSTM hidden size\n",
    "num_classes = 5  # Assuming 5 classes for your problem\n",
    "batch_size = 64\n",
    "learning_rate = 0.001\n",
    "num_epochs = 10\n"
   ],
   "metadata": {
    "collapsed": false
   }
  },
  {
   "cell_type": "code",
   "execution_count": 6,
   "outputs": [],
   "source": [
    "price_change_map = {\n",
    "\"MAJOR_INCREASE\": 0,\n",
    "\"MINOR_INCREASE\": 1,\n",
    "\"NO_CHANGE\": 2,\n",
    "\"MINOR_DECREASE\": 3,\n",
    "\"MAJOR_DECREASE\": 4\n",
    "}\n",
    "df['label_mapped'] = df['label'].map(price_change_map)\n",
    "\n",
    "features = df['label_mapped'].shift(-1).fillna(method='ffill').to_frame()\n",
    "features = features.rename(columns={'label_mapped': 'shift_1'})\n",
    "features['shift_2'] = df['label_mapped'].shift(-2).fillna(method='ffill')\n",
    "features['shift_3'] = df['label_mapped'].shift(-3).fillna(method='ffill')\n",
    "target = df['label_mapped']\n",
    "\n",
    "\n",
    "def prepare_sequences(df):\n",
    "    sequences = []\n",
    "    targets = []\n",
    "    for i in range(len(df) - 3):\n",
    "        sequence = df['label_mapped'][i:i+3].values\n",
    "        target = df['label_mapped'][i+3]\n",
    "        sequences.append(sequence)\n",
    "        targets.append(target)\n",
    "    return torch.tensor(sequences, dtype=torch.float).unsqueeze(-1), torch.tensor(targets, dtype=torch.long)\n",
    "\n",
    "features, target = prepare_sequences(df)\n",
    "\n",
    "# Assuming other parts of your setup (model definition, etc.) are correct\n",
    "\n",
    "# Adjusting the DataLoader\n",
    "train_dataset = TensorDataset(features, target)\n",
    "train_loader = DataLoader(dataset=train_dataset, batch_size=batch_size, shuffle=True)\n"
   ],
   "metadata": {
    "collapsed": false
   }
  },
  {
   "cell_type": "code",
   "execution_count": 7,
   "outputs": [],
   "source": [
    "\n",
    "\n",
    "# DataLoader\n",
    "train_dataset = TensorDataset(features, target)\n",
    "train_loader = DataLoader(dataset=train_dataset, batch_size=batch_size, shuffle=True)\n",
    "\n",
    "model = LabelLSTM(input_size, hidden_size, num_classes)\n",
    "criterion = nn.CrossEntropyLoss()\n",
    "optimizer = optim.Adam(model.parameters(), lr=learning_rate)\n",
    "\n",
    "# Training loop\n",
    "for epoch in range(num_epochs):\n",
    "    for batch_idx, (data, targets) in enumerate(train_loader):\n",
    "        # Forward pass\n",
    "        scores = model(data)\n",
    "        loss = criterion(scores, targets)\n",
    "\n",
    "        # Backward and optimize\n",
    "        optimizer.zero_grad()\n",
    "        loss.backward()\n",
    "        optimizer.step()\n"
   ],
   "metadata": {
    "collapsed": false
   }
  },
  {
   "cell_type": "code",
   "execution_count": 5,
   "metadata": {
    "collapsed": true
   },
   "outputs": [
    {
     "data": {
      "text/plain": "      label  shift_1  shift_2\n0       1.0     -1.0     -1.0\n1      -1.0     -1.0     -1.0\n2      -1.0     -1.0     -1.0\n3      -1.0     -1.0     -1.0\n4      -1.0     -1.0     -1.0\n...     ...      ...      ...\n2402    0.0      1.0     -1.0\n2403    1.0     -1.0     -2.0\n2404   -1.0     -2.0     -2.0\n2405   -2.0     -2.0     -2.0\n2406   -2.0     -2.0     -2.0\n\n[2407 rows x 3 columns]",
      "text/html": "<div>\n<style scoped>\n    .dataframe tbody tr th:only-of-type {\n        vertical-align: middle;\n    }\n\n    .dataframe tbody tr th {\n        vertical-align: top;\n    }\n\n    .dataframe thead th {\n        text-align: right;\n    }\n</style>\n<table border=\"1\" class=\"dataframe\">\n  <thead>\n    <tr style=\"text-align: right;\">\n      <th></th>\n      <th>label</th>\n      <th>shift_1</th>\n      <th>shift_2</th>\n    </tr>\n  </thead>\n  <tbody>\n    <tr>\n      <th>0</th>\n      <td>1.0</td>\n      <td>-1.0</td>\n      <td>-1.0</td>\n    </tr>\n    <tr>\n      <th>1</th>\n      <td>-1.0</td>\n      <td>-1.0</td>\n      <td>-1.0</td>\n    </tr>\n    <tr>\n      <th>2</th>\n      <td>-1.0</td>\n      <td>-1.0</td>\n      <td>-1.0</td>\n    </tr>\n    <tr>\n      <th>3</th>\n      <td>-1.0</td>\n      <td>-1.0</td>\n      <td>-1.0</td>\n    </tr>\n    <tr>\n      <th>4</th>\n      <td>-1.0</td>\n      <td>-1.0</td>\n      <td>-1.0</td>\n    </tr>\n    <tr>\n      <th>...</th>\n      <td>...</td>\n      <td>...</td>\n      <td>...</td>\n    </tr>\n    <tr>\n      <th>2402</th>\n      <td>0.0</td>\n      <td>1.0</td>\n      <td>-1.0</td>\n    </tr>\n    <tr>\n      <th>2403</th>\n      <td>1.0</td>\n      <td>-1.0</td>\n      <td>-2.0</td>\n    </tr>\n    <tr>\n      <th>2404</th>\n      <td>-1.0</td>\n      <td>-2.0</td>\n      <td>-2.0</td>\n    </tr>\n    <tr>\n      <th>2405</th>\n      <td>-2.0</td>\n      <td>-2.0</td>\n      <td>-2.0</td>\n    </tr>\n    <tr>\n      <th>2406</th>\n      <td>-2.0</td>\n      <td>-2.0</td>\n      <td>-2.0</td>\n    </tr>\n  </tbody>\n</table>\n<p>2407 rows × 3 columns</p>\n</div>"
     },
     "execution_count": 5,
     "metadata": {},
     "output_type": "execute_result"
    }
   ],
   "source": [
    "\n",
    "#Train a softmax regression just using the last 3 predictions, nothing else\n",
    "\n",
    "#Train random thing jsut based of dist of values in training data.\n",
    "\n",
    "# Could consider other options like using raw data... training more coplex?\n",
    "\n",
    "#Or could try with labels... also more complex\n",
    "\n",
    "#Maybe also training with lstm...\n",
    "\n",
    "import pandas as pd\n",
    "from sklearn.model_selection import train_test_split\n",
    "from sklearn.linear_model import LogisticRegression\n",
    "from sklearn.preprocessing import StandardScaler\n",
    "from sklearn.metrics import accuracy_score, confusion_matrix, classification_report\n",
    "\n",
    "\n",
    "\n",
    "import pandas as pd\n",
    "\n",
    "csv_location = \"data/S&P/data.csv\"\n",
    "\n",
    "df = pd.read_csv(csv_location)\n",
    "price_change_map = {\n",
    "    \"MAJOR_INCREASE\": 2,\n",
    "    \"MINOR_INCREASE\": 1,\n",
    "    \"NO_CHANGE\": 0,\n",
    "    \"MINOR_DECREASE\": -1,\n",
    "    \"MAJOR_DECREASE\": -2\n",
    "}\n",
    "\n",
    "df['label'] = df['label'].map(price_change_map)\n",
    "\n",
    "\n",
    "\n",
    "features = df['label'].shift(-1).fillna(method='ffill').to_frame()  # Mocking sequential feature\n",
    "features['shift_1'] = df['label'].shift(-2).fillna(method='ffill')\n",
    "features['shift_2'] = df['label'].shift(-3).fillna(method='ffill')\n",
    "target = df['label']\n",
    "features"
   ]
  },
  {
   "cell_type": "code",
   "execution_count": 3,
   "outputs": [
    {
     "data": {
      "text/plain": "                                               sentence  label  price_change\n0     At the Federal Reserve, we are strongly commit...      2        -0.006\n1     Today my colleagues on the FOMC and I kept int...      3         0.057\n2     These measures, along with our strong guidance...      2        -0.206\n3     Since the beginning of the year, indicators of...      2        -0.155\n4     As with overall economic activity, conditions ...      2        -0.694\n...                                                 ...    ...           ...\n2402  I’d also say that, you know, a strong U.S. eco...      3         0.300\n2403  Now, we do understand, though, that when we—wh...      4         0.000\n2404  It’s a relatively small number, and those part...      3         0.201\n2405  So, again, we’ll continue to conduct U.S. mone...      2        -0.499\n2406  So I don’t comment on the appropriateness of t...      0        -0.801\n\n[2407 rows x 3 columns]",
      "text/html": "<div>\n<style scoped>\n    .dataframe tbody tr th:only-of-type {\n        vertical-align: middle;\n    }\n\n    .dataframe tbody tr th {\n        vertical-align: top;\n    }\n\n    .dataframe thead th {\n        text-align: right;\n    }\n</style>\n<table border=\"1\" class=\"dataframe\">\n  <thead>\n    <tr style=\"text-align: right;\">\n      <th></th>\n      <th>sentence</th>\n      <th>label</th>\n      <th>price_change</th>\n    </tr>\n  </thead>\n  <tbody>\n    <tr>\n      <th>0</th>\n      <td>At the Federal Reserve, we are strongly commit...</td>\n      <td>2</td>\n      <td>-0.006</td>\n    </tr>\n    <tr>\n      <th>1</th>\n      <td>Today my colleagues on the FOMC and I kept int...</td>\n      <td>3</td>\n      <td>0.057</td>\n    </tr>\n    <tr>\n      <th>2</th>\n      <td>These measures, along with our strong guidance...</td>\n      <td>2</td>\n      <td>-0.206</td>\n    </tr>\n    <tr>\n      <th>3</th>\n      <td>Since the beginning of the year, indicators of...</td>\n      <td>2</td>\n      <td>-0.155</td>\n    </tr>\n    <tr>\n      <th>4</th>\n      <td>As with overall economic activity, conditions ...</td>\n      <td>2</td>\n      <td>-0.694</td>\n    </tr>\n    <tr>\n      <th>...</th>\n      <td>...</td>\n      <td>...</td>\n      <td>...</td>\n    </tr>\n    <tr>\n      <th>2402</th>\n      <td>I’d also say that, you know, a strong U.S. eco...</td>\n      <td>3</td>\n      <td>0.300</td>\n    </tr>\n    <tr>\n      <th>2403</th>\n      <td>Now, we do understand, though, that when we—wh...</td>\n      <td>4</td>\n      <td>0.000</td>\n    </tr>\n    <tr>\n      <th>2404</th>\n      <td>It’s a relatively small number, and those part...</td>\n      <td>3</td>\n      <td>0.201</td>\n    </tr>\n    <tr>\n      <th>2405</th>\n      <td>So, again, we’ll continue to conduct U.S. mone...</td>\n      <td>2</td>\n      <td>-0.499</td>\n    </tr>\n    <tr>\n      <th>2406</th>\n      <td>So I don’t comment on the appropriateness of t...</td>\n      <td>0</td>\n      <td>-0.801</td>\n    </tr>\n  </tbody>\n</table>\n<p>2407 rows × 3 columns</p>\n</div>"
     },
     "execution_count": 3,
     "metadata": {},
     "output_type": "execute_result"
    }
   ],
   "source": [
    "df"
   ],
   "metadata": {
    "collapsed": false
   }
  },
  {
   "cell_type": "code",
   "execution_count": 7,
   "outputs": [],
   "source": [
    "# Splitting the dataset into training and validation sets\n",
    "X_train, X_val, y_train, y_val = train_test_split(features, target, test_size=0.1, random_state=42)"
   ],
   "metadata": {
    "collapsed": false
   }
  },
  {
   "cell_type": "code",
   "execution_count": 8,
   "outputs": [
    {
     "name": "stdout",
     "output_type": "stream",
     "text": [
      "0.37344398340248963\n",
      "[[ 0 14  0  7  0]\n",
      " [ 0 61  0 30  0]\n",
      " [ 0 14  0  9  0]\n",
      " [ 0 54  0 29  0]\n",
      " [ 0 17  0  6  0]]\n",
      "              precision    recall  f1-score   support\n",
      "\n",
      "          -2       0.00      0.00      0.00        21\n",
      "          -1       0.38      0.67      0.49        91\n",
      "           0       0.00      0.00      0.00        23\n",
      "           1       0.36      0.35      0.35        83\n",
      "           2       0.00      0.00      0.00        23\n",
      "\n",
      "    accuracy                           0.37       241\n",
      "   macro avg       0.15      0.20      0.17       241\n",
      "weighted avg       0.27      0.37      0.31       241\n",
      "\n"
     ]
    },
    {
     "name": "stderr",
     "output_type": "stream",
     "text": [
      "C:\\Users\\Marcus\\venv\\Lib\\site-packages\\sklearn\\metrics\\_classification.py:1509: UndefinedMetricWarning: Precision is ill-defined and being set to 0.0 in labels with no predicted samples. Use `zero_division` parameter to control this behavior.\n",
      "  _warn_prf(average, modifier, f\"{metric.capitalize()} is\", len(result))\n",
      "C:\\Users\\Marcus\\venv\\Lib\\site-packages\\sklearn\\metrics\\_classification.py:1509: UndefinedMetricWarning: Precision is ill-defined and being set to 0.0 in labels with no predicted samples. Use `zero_division` parameter to control this behavior.\n",
      "  _warn_prf(average, modifier, f\"{metric.capitalize()} is\", len(result))\n",
      "C:\\Users\\Marcus\\venv\\Lib\\site-packages\\sklearn\\metrics\\_classification.py:1509: UndefinedMetricWarning: Precision is ill-defined and being set to 0.0 in labels with no predicted samples. Use `zero_division` parameter to control this behavior.\n",
      "  _warn_prf(average, modifier, f\"{metric.capitalize()} is\", len(result))\n"
     ]
    }
   ],
   "source": [
    "model = LogisticRegression(multi_class='multinomial', solver='lbfgs', max_iter=1000)\n",
    "model.fit(X_train, y_train)\n",
    "\n",
    "# Evaluating the model\n",
    "y_pred = model.predict(X_val)\n",
    "accuracy = accuracy_score(y_val, y_pred)\n",
    "conf_matrix = confusion_matrix(y_val, y_pred)\n",
    "class_report = classification_report(y_val, y_pred)\n",
    "\n",
    "print(accuracy)\n",
    "print(conf_matrix)\n",
    "print(class_report)\n"
   ],
   "metadata": {
    "collapsed": false
   }
  }
 ],
 "metadata": {
  "kernelspec": {
   "display_name": "Python 3",
   "language": "python",
   "name": "python3"
  },
  "language_info": {
   "codemirror_mode": {
    "name": "ipython",
    "version": 2
   },
   "file_extension": ".py",
   "mimetype": "text/x-python",
   "name": "python",
   "nbconvert_exporter": "python",
   "pygments_lexer": "ipython2",
   "version": "2.7.6"
  }
 },
 "nbformat": 4,
 "nbformat_minor": 0
}
